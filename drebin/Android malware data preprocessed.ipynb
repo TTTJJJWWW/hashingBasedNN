{
 "cells": [
  {
   "cell_type": "code",
   "execution_count": 1,
   "metadata": {
    "collapsed": true
   },
   "outputs": [],
   "source": [
    "#this work evaluate and defent the malware classifer of Grosses et al. 2016"
   ]
  },
  {
   "cell_type": "code",
   "execution_count": 2,
   "metadata": {
    "collapsed": true
   },
   "outputs": [],
   "source": [
    "import numpy as np\n",
    "import matplotlib.pylab as plt\n",
    "\n",
    "import os\n",
    "import sys\n",
    "import csv\n",
    "import collections\n",
    "import pickle\n",
    "import re"
   ]
  },
  {
   "cell_type": "code",
   "execution_count": 3,
   "metadata": {
    "collapsed": false
   },
   "outputs": [],
   "source": [
    "manifest = ['activity', 'permission', 'intent', 'feature', 'service_receiver']\n",
    "\n",
    "def _filter_token(token):\n",
    "    feats = token.split(\"::\")\n",
    "    if feats[0] in manifest:\n",
    "        return token\n",
    "    else:\n",
    "        return\n",
    "    "
   ]
  },
  {
   "cell_type": "code",
   "execution_count": 4,
   "metadata": {
    "collapsed": false
   },
   "outputs": [
    {
     "name": "stdout",
     "output_type": "stream",
     "text": [
      "[0] features vector is [['feature::android.hardware.touchscreen', 'permission::android.permission.ACCESS_FINE_LOCATION', 'activity::.LauncherSplashActivity', 'permission::android.permission.INTERNET', 'service_receiver::com.atlatl.cda.android.app.service.FlatFormDloadIntentService']]\n",
      "[1] features vector is [['feature::android.hardware.touchscreen', 'permission::android.permission.INTERNET', 'activity::.SUL', 'intent::android.intent.action.MAIN', 'permission::android.permission.ACCESS_NETWORK_STATE']]\n",
      "[2] features vector is [['feature::android.hardware.touchscreen', 'permission::android.permission.ACCESS_FINE_LOCATION', 'permission::android.permission.INTERNET', 'intent::android.intent.category.DEFAULT', 'feature::android.hardware.location.gps']]\n",
      "[3] features vector is [['feature::android.hardware.touchscreen', 'intent::android.intent.action.MAIN', 'permission::android.permission.INTERNET', 'intent::android.intent.category.LAUNCHER', 'activity::.CalculatorHouseLoan']]\n",
      "[4] features vector is [['feature::android.hardware.touchscreen', 'permission::android.permission.READ_PHONE_STATE', 'permission::android.permission.INTERNET', 'permission::android.permission.INSTALL_PACKAGES', 'activity::.Login']]\n"
     ]
    }
   ],
   "source": [
    "#Drebin dataset directory\n",
    "Dre_dir = './dataset/'\n",
    "#Load features vector \n",
    "features_dataset_dir = os.path.join(Dre_dir, 'feature_vectors')\n",
    "features_vectors_files = os.listdir(features_dataset_dir)\n",
    "#save features vector to list structure\n",
    "feature_vectors = []\n",
    "for i, e in enumerate(features_vectors_files):\n",
    "    file_path = os.path.join(features_dataset_dir, e)\n",
    "    f = open(file_path, 'r')\n",
    "    feat_vect = []\n",
    "    for l in f:\n",
    "        #Only preserve the features in Manifest.XML file\n",
    "        l_perserved = _filter_token(l.strip())\n",
    "        \n",
    "        if len(l.strip()) and l_perserved != None:\n",
    "            feat_vect.append(l.strip())\n",
    "    feature_vectors.append(feat_vect)\n",
    "    f.close()\n",
    "\n",
    "for i in range(5):\n",
    "    print(\"[%d] features vector is [%s]\" % (i, feature_vectors[i][:5]))"
   ]
  },
  {
   "cell_type": "markdown",
   "metadata": {},
   "source": [
    "# 1.COUNT WORDS"
   ]
  },
  {
   "cell_type": "code",
   "execution_count": 9,
   "metadata": {
    "collapsed": false
   },
   "outputs": [
    {
     "name": "stdout",
     "output_type": "stream",
     "text": [
      "The counter item is [<type 'list'>], the counter length is [229214]\n",
      "0 the item is [('activity::.ScanActivity1', 1)]\n",
      "1 the item is [('activity::com.doapps.android.realestate.listingdetails.OAuthTwitter', 6)]\n",
      "2 the item is [('activity::.ResListActivity', 1)]\n",
      "3 the item is [('service_receiver::.Y5Service', 1)]\n",
      "4 the item is [('activity::.Acknowledgements', 3)]\n"
     ]
    }
   ],
   "source": [
    "c = collections.Counter()\n",
    "for feat_vector in feature_vectors:\n",
    "    for feat in feat_vector:\n",
    "        c[feat] = c[feat] + 1\n",
    "\n",
    "print ('The counter item is [%s], the counter length is [%d]' % \\\n",
    "      (type(c.items()), len(c.items())))\n",
    "for i in range(5):\n",
    "    print(\"%d the item is [%s]\" % (i, c.items()[i]))"
   ]
  },
  {
   "cell_type": "markdown",
   "metadata": {},
   "source": [
    "# 2.Sort the Count "
   ]
  },
  {
   "cell_type": "code",
   "execution_count": 10,
   "metadata": {
    "collapsed": false
   },
   "outputs": [
    {
     "name": "stdout",
     "output_type": "stream",
     "text": [
      "After delete low frequency token, the counter item is [<type 'list'>], the counter length is [13641]\n"
     ]
    }
   ],
   "source": [
    "LOW_FREQS = 6\n",
    "for c_i in list(c):\n",
    "    if c[c_i] < LOW_FREQS:\n",
    "        del c[c_i]\n",
    "c_pairs = sorted(c.items(), key = lambda x: -x[1])\n",
    "\n",
    "print ('After delete low frequency token, the counter item is [%s], the counter length is [%d]' % \\\n",
    "      (type(c.items()), len(c.items())))"
   ]
  },
  {
   "cell_type": "markdown",
   "metadata": {},
   "source": [
    "# 3.Make Dictionary "
   ]
  },
  {
   "cell_type": "code",
   "execution_count": 11,
   "metadata": {
    "collapsed": false
   },
   "outputs": [
    {
     "name": "stdout",
     "output_type": "stream",
     "text": [
      "Type of 'words' is [<type 'tuple'>], the length of 'words' is [13641]\n",
      "Type of 'counts' is [<type 'tuple'>], the length of 'counts' is [13641]\n",
      "Type of 'vocab' is [<type 'dict'>], the length of 'vocab' is [13641]\n"
     ]
    }
   ],
   "source": [
    "words, counts = zip(*(c_pairs))\n",
    "vocab = dict(zip(words, range(len(words))))\n",
    "print(\"Type of 'words' is [%s], the length of 'words' is [%d]\" %\\\n",
    "     (type(words), len(words)))\n",
    "print(\"Type of 'counts' is [%s], the length of 'counts' is [%d]\" %\\\n",
    "     (type(counts), len(counts)))\n",
    "print(\"Type of 'vocab' is [%s], the length of 'vocab' is [%d]\" % \\\n",
    "     (type(vocab), len(vocab)))"
   ]
  },
  {
   "cell_type": "markdown",
   "metadata": {},
   "source": [
    "# 4. The Usage of 'words' & 'vocab'"
   ]
  },
  {
   "cell_type": "code",
   "execution_count": 12,
   "metadata": {
    "collapsed": false
   },
   "outputs": [
    {
     "name": "stdout",
     "output_type": "stream",
     "text": [
      "=========words usage=========\n",
      " [0]: words[0] is [feature::android.hardware.touchscreen]\n",
      " [1]: words[1] is [intent::android.intent.action.MAIN]\n",
      " [2]: words[2] is [intent::android.intent.category.LAUNCHER]\n",
      " [3]: words[3] is [permission::android.permission.INTERNET]\n",
      " [4]: words[4] is [permission::android.permission.ACCESS_NETWORK_STATE]\n",
      "=========vocab usage=========\n",
      " [0]: [vocab[feature::android.hardware.touchscreen]] is [0]\n",
      " [1]: [vocab[intent::android.intent.action.MAIN]] is [1]\n",
      " [2]: [vocab[intent::android.intent.category.LAUNCHER]] is [2]\n",
      " [3]: [vocab[permission::android.permission.INTERNET]] is [3]\n",
      " [4]: [vocab[permission::android.permission.ACCESS_NETWORK_STATE]] is [4]\n"
     ]
    }
   ],
   "source": [
    "#number to words\n",
    "print('=========words usage=========')\n",
    "for i in range(5):\n",
    "    print(\" [%d]: words[%d] is [%s]\" % (i, i, words[i]))\n",
    "print('=========vocab usage=========')\n",
    "for i in range(5):\n",
    "    print(\" [%d]: [vocab[%s]] is [%s]\" % (i, words[i], vocab[words[i]]))"
   ]
  },
  {
   "cell_type": "code",
   "execution_count": 13,
   "metadata": {
    "collapsed": false
   },
   "outputs": [
    {
     "name": "stdout",
     "output_type": "stream",
     "text": [
      "['090b5be26bcc4df6186124c2b47831eb96761fcf61282d63e13fa235a20c7539', 'bedf51a5732d94c173bcd8ed918333954f5a78307c2a2f064b97b43278330f54', '149bde78b32be3c4c25379dd6c3310ce08eaf58804067a9870cfe7b4f51e62fe', 'dd11c105ec8bb3c851f5955fa53eebb91b7dc46bef4d919ee4b099e825c56325', '6832234c4eae7a57be4f68271b7eecb056c4cd8352c67d2273d676208118871d']\n"
     ]
    }
   ],
   "source": [
    "#select training and testing dataset\n",
    "malware_sha256_path = os.path.join(Dre_dir, 'sha256_family.csv')\n",
    "fcsv = open(malware_sha256_path, 'rb')\n",
    "reader = csv.reader(fcsv)\n",
    "malware_sha256 = []\n",
    "for line in reader:\n",
    "    if len(line[0].strip()) >= 10:\n",
    "        malware_sha256.append(line[0].strip())\n",
    "print malware_sha256[:5]"
   ]
  },
  {
   "cell_type": "code",
   "execution_count": 14,
   "metadata": {
    "collapsed": false
   },
   "outputs": [
    {
     "name": "stdout",
     "output_type": "stream",
     "text": [
      "The length of malware is 5560 : 123453 is for the length of benign\n"
     ]
    }
   ],
   "source": [
    "malware_feature_vectors = []\n",
    "malware_idx = []\n",
    "for _sha256 in malware_sha256:\n",
    "    idx = features_vectors_files.index(_sha256)\n",
    "    if idx > -1:\n",
    "        malware_feature_vectors.append(feature_vectors[idx])\n",
    "        malware_idx.append(idx)\n",
    "\n",
    "\n",
    "benign_feature_vectors = []\n",
    "for _i, _e in enumerate(feature_vectors):\n",
    "    if _i not in malware_idx:\n",
    "        benign_feature_vectors.append(_e)\n",
    "\n",
    "print(\"The length of malware is %d : %d is for the length of benign\" % \\\n",
    "     (len(malware_feature_vectors), len(benign_feature_vectors)))  "
   ]
  },
  {
   "cell_type": "markdown",
   "metadata": {},
   "source": [
    "# 6.Extract features "
   ]
  },
  {
   "cell_type": "code",
   "execution_count": 15,
   "metadata": {
    "collapsed": false
   },
   "outputs": [],
   "source": [
    "input_dims = len(vocab)\n",
    "malware_binary_data = []\n",
    "for _vector in malware_feature_vectors:\n",
    "    data = np.zeros((input_dims),dtype = np.float32)\n",
    "    if len(_vector) > 0 :\n",
    "        value_idx = [v for v in list(map(vocab.get, _vector)) if v is not None]\n",
    "        data[np.array(value_idx)] = 1.\n",
    "    malware_binary_data.append(data)\n",
    "malware_labels = [1] * len(malware_binary_data)\n",
    "\n",
    "benign_binary_data = []\n",
    "for _vector in benign_feature_vectors:\n",
    "    data = np.zeros((input_dims),dtype = np.float32)\n",
    "    if len(_vector) > 0:\n",
    "        value_idx = [v for v in list(map(vocab.get, _vector)) if v is not None]\n",
    "        data[np.array(value_idx)] = 1.\n",
    "    benign_binary_data.append(data)\n",
    "benign_labels = [0] * len(benign_binary_data)  "
   ]
  },
  {
   "cell_type": "markdown",
   "metadata": {},
   "source": [
    "# 5.Save & Load "
   ]
  },
  {
   "cell_type": "code",
   "execution_count": 16,
   "metadata": {
    "collapsed": false
   },
   "outputs": [
    {
     "name": "stdout",
     "output_type": "stream",
     "text": [
      "Sequence and vocab is saved to [./dataset/words_vocab.pkl]\n",
      "=========words usage=========\n",
      " [0]: words[0] is [feature::android.hardware.touchscreen]\n",
      " [1]: words[1] is [intent::android.intent.action.MAIN]\n",
      " [2]: words[2] is [intent::android.intent.category.LAUNCHER]\n",
      " [3]: words[3] is [permission::android.permission.INTERNET]\n",
      " [4]: words[4] is [permission::android.permission.ACCESS_NETWORK_STATE]\n",
      "=========vocab usage=========\n",
      " [0]: [vocab[feature::android.hardware.touchscreen]] is [0]\n",
      " [1]: [vocab[intent::android.intent.action.MAIN]] is [1]\n",
      " [2]: [vocab[intent::android.intent.category.LAUNCHER]] is [2]\n",
      " [3]: [vocab[permission::android.permission.INTERNET]] is [3]\n",
      " [4]: [vocab[permission::android.permission.ACCESS_NETWORK_STATE]] is [4]\n"
     ]
    }
   ],
   "source": [
    "import cPickle\n",
    "save_dir = Dre_dir\n",
    "save_name = os.path.join(save_dir, 'words_vocab.pkl')\n",
    "with open(save_name, 'w') as fsave:\n",
    "    cPickle.dump((words, vocab), fsave)\n",
    "    print(\"Sequence and vocab is saved to [%s]\" % save_name)\n",
    "\n",
    "\n",
    "#load \n",
    "with open(save_name, 'rb') as fload:\n",
    "    words2, vocab2 = pickle.load(fload)\n",
    "    print('=========words usage=========')\n",
    "    for i in range(5):\n",
    "        print(\" [%d]: words[%d] is [%s]\" % (i, i, words2[i]))\n",
    "    print('=========vocab usage=========')\n",
    "    for i in range(5):\n",
    "        print(\" [%d]: [vocab[%s]] is [%s]\" % (i, words2[i], vocab2[words2[i]]))"
   ]
  },
  {
   "cell_type": "code",
   "execution_count": 19,
   "metadata": {
    "collapsed": false
   },
   "outputs": [
    {
     "name": "stdout",
     "output_type": "stream",
     "text": [
      "(5560, 13641)\n"
     ]
    }
   ],
   "source": [
    "#save data \n",
    "mal_data_path = os.path.join(save_dir, 'malware.data')\n",
    "with open(mal_data_path, 'wb') as fsave:\n",
    "    np.save(fsave, np.array(malware_binary_data, dtype= np.float32))\n",
    "ben_data_path = os.path.join(save_dir, 'benign.data')    \n",
    "with open(ben_data_path, 'wb') as fsave:\n",
    "    np.save(fsave, np.array(benign_binary_data, dtype= np.float32))\n",
    "\n",
    "with open(mal_data_path, 'rb') as f_r:\n",
    "    mal_data = np.load(f_r)\n",
    "print(mal_data.shape)    "
   ]
  },
  {
   "cell_type": "code",
   "execution_count": null,
   "metadata": {
    "collapsed": true
   },
   "outputs": [],
   "source": []
  }
 ],
 "metadata": {
  "kernelspec": {
   "display_name": "Python 2",
   "language": "python",
   "name": "python2"
  },
  "language_info": {
   "codemirror_mode": {
    "name": "ipython",
    "version": 2
   },
   "file_extension": ".py",
   "mimetype": "text/x-python",
   "name": "python",
   "nbconvert_exporter": "python",
   "pygments_lexer": "ipython2",
   "version": "2.7.13"
  }
 },
 "nbformat": 4,
 "nbformat_minor": 2
}
